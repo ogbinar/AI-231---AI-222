{
 "cells": [
  {
   "cell_type": "raw",
   "id": "f0fc234b-2b14-4b5c-8a55-48c73e7bc1f0",
   "metadata": {},
   "source": [
    "%pip install opencv-python"
   ]
  },
  {
   "cell_type": "raw",
   "id": "019d811a-18ae-4146-8c3b-14e89e248995",
   "metadata": {},
   "source": [
    "%pip install validators"
   ]
  },
  {
   "cell_type": "raw",
   "id": "ed7779c0-b3aa-4a50-a57c-1a3beddace77",
   "metadata": {},
   "source": [
    "%pip install tritonclient[all]"
   ]
  },
  {
   "cell_type": "code",
   "execution_count": 119,
   "id": "6f6b2e9c-88bb-4655-96fe-2b74f974b165",
   "metadata": {},
   "outputs": [],
   "source": [
    "import os\n",
    "import requests\n",
    "import cv2\n",
    "import numpy as np\n",
    "import urllib.request\n",
    "import validators\n",
    "import matplotlib.pyplot as plt\n",
    "import tritonclient.http as httpclient\n",
    "\n",
    "def load_image_from_url(url):\n",
    "    response = requests.get(url, stream=True)\n",
    "    if response.status_code == 200:\n",
    "        with open('image.jpg', 'wb') as f:\n",
    "            for chunk in response.iter_content(chunk_size=1024):\n",
    "                f.write(chunk)\n",
    "\n",
    "        # Load the image from the file\n",
    "        image = cv2.imread('image.jpg')\n",
    "\n",
    "        # Remove the temporary image file\n",
    "        os.remove('image.jpg')\n",
    "\n",
    "        return image\n",
    "    else:\n",
    "        print('Error loading image:', response.status_code)\n",
    "        return None"
   ]
  },
  {
   "cell_type": "code",
   "execution_count": 120,
   "id": "9f5267c6-08c1-46bc-8334-70461a629036",
   "metadata": {},
   "outputs": [],
   "source": [
    "image_url = 'https://ultralytics.com/images/bus.jpg'\n",
    "image = load_image_from_url(image_url)"
   ]
  },
  {
   "cell_type": "code",
   "execution_count": 127,
   "id": "7ac47777-0662-417c-a505-4c0c6a3d0574",
   "metadata": {},
   "outputs": [],
   "source": [
    "import cv2\n",
    "\n",
    "# Open the webcam\n",
    "cap = cv2.VideoCapture(0)\n",
    "\n",
    "# Check if the webcam is opened correctly\n",
    "if not cap.isOpened():\n",
    "    raise IOError(\"Cannot open webcam\")\n",
    "\n",
    "# Read a frame from the webcam\n",
    "ret, frame = cap.read()\n",
    "\n",
    "# Save the frame as an image file\n",
    "cv2.imwrite('snapshot.png', frame)\n",
    "\n",
    "# Release the webcam\n",
    "cap.release()"
   ]
  },
  {
   "cell_type": "code",
   "execution_count": 130,
   "id": "452e5242-f71a-4331-946f-97c4996ef8b2",
   "metadata": {},
   "outputs": [],
   "source": [
    "image = frame"
   ]
  },
  {
   "cell_type": "code",
   "execution_count": 132,
   "id": "cff22fba-e4bc-4b60-a66a-54b5d5ac7482",
   "metadata": {},
   "outputs": [],
   "source": [
    "triton_client = httpclient.InferenceServerClient(\n",
    "    verbose=False,\n",
    "    url=\"202.92.159.241:8008\"\n",
    ")\n",
    "\n",
    "input0_data = image\n",
    "height, width, channels = input0_data.shape\n",
    "input0_data = np.expand_dims(image, axis=0)\n",
    "# Get the shape of the image\n",
    "\n",
    "\n",
    "inputs = []\n",
    "inputs.append(httpclient.InferInput(\"image\", [1,height, width, channels], \"UINT8\"))\n",
    "inputs[0].set_data_from_numpy(input0_data, binary_data=False)\n",
    "model_name = \"Yolov8x\"\n",
    "\n",
    "results = triton_client.infer(\n",
    "        model_name,\n",
    "        inputs)\n",
    "\n",
    "# Convert the bounding boxes, probabilities, and names to numpy arrays\n",
    "bboxes = results.as_numpy(\"bboxes\").flatten()\n",
    "probs = results.as_numpy(\"probs\").flatten()\n",
    "names = results.as_numpy(\"names\").flatten()\n",
    "\n",
    "# Convert the bounding boxes and probabilities to float32\n",
    "bboxes = np.array(bboxes, dtype=np.float32)\n",
    "probs = np.array(probs, dtype=np.float32)\n",
    "\n",
    "# Convert the names to a 1D array and decode from UTF-32\n",
    "names = names.tobytes().decode('utf-32').split(\"|\")\n",
    "names = names[:-1]\n",
    "\n",
    "# Assuming `image` is your image\n",
    "for i in range(0, len(bboxes), 4):\n",
    "    if probs[i // 4] > 0.5:\n",
    "        x1, y1, x2, y2 = bboxes[i:i+4]\n",
    "        # Generate a random color\n",
    "        color = tuple((np.random.rand(3,) * 255).astype(int).tolist())\n",
    "        # Draw the bounding box on the image\n",
    "        cv2.rectangle(image, (int(x1), int(y1)), (int(x2), int(y2)), color, 2)\n",
    "        # Draw the prediction name and probability on the image\n",
    "        cv2.putText(image, f\"{names[i // 4]} {probs[i // 4]:.2f}\", (int(x1), int(y1) - 10), cv2.FONT_HERSHEY_SIMPLEX, 0.9, color, 2)\n",
    "\n",
    "# Display the image\n",
    "cv2.imshow('Image', image)\n",
    "cv2.waitKey(0)\n",
    "cv2.destroyAllWindows()"
   ]
  },
  {
   "cell_type": "code",
   "execution_count": 134,
   "id": "6e2ee7c3-47d8-4f78-9513-f2c77a489f88",
   "metadata": {},
   "outputs": [
    {
     "data": {
      "text/plain": [
       "array([[[34, 20,  5],\n",
       "        [34, 20,  5],\n",
       "        [34, 20,  5],\n",
       "        ...,\n",
       "        [ 3,  1,  1],\n",
       "        [ 3,  1,  1],\n",
       "        [ 3,  1,  1]],\n",
       "\n",
       "       [[34, 20,  3],\n",
       "        [35, 20,  4],\n",
       "        [34, 20,  5],\n",
       "        ...,\n",
       "        [ 2,  0,  0],\n",
       "        [ 3,  2,  0],\n",
       "        [ 2,  0,  0]],\n",
       "\n",
       "       [[34, 20,  5],\n",
       "        [35, 20,  5],\n",
       "        [34, 20,  5],\n",
       "        ...,\n",
       "        [ 2,  0,  0],\n",
       "        [ 2,  0,  0],\n",
       "        [ 2,  0,  0]],\n",
       "\n",
       "       ...,\n",
       "\n",
       "       [[ 1,  1,  1],\n",
       "        [ 0,  0,  0],\n",
       "        [ 0,  0,  0],\n",
       "        ...,\n",
       "        [ 0,  0,  0],\n",
       "        [ 0,  0,  0],\n",
       "        [ 0,  0,  0]],\n",
       "\n",
       "       [[ 0,  0,  0],\n",
       "        [ 0,  0,  0],\n",
       "        [ 0,  0,  0],\n",
       "        ...,\n",
       "        [ 0,  0,  0],\n",
       "        [ 0,  0,  0],\n",
       "        [ 0,  0,  0]],\n",
       "\n",
       "       [[ 0,  0,  0],\n",
       "        [ 0,  0,  0],\n",
       "        [ 0,  0,  0],\n",
       "        ...,\n",
       "        [ 0,  0,  0],\n",
       "        [ 0,  0,  0],\n",
       "        [ 0,  0,  0]]], dtype=uint8)"
      ]
     },
     "execution_count": 134,
     "metadata": {},
     "output_type": "execute_result"
    }
   ],
   "source": [
    "image"
   ]
  },
  {
   "cell_type": "code",
   "execution_count": null,
   "id": "e754d797-3d8f-4e19-a12a-e974a69a5b4f",
   "metadata": {},
   "outputs": [],
   "source": []
  }
 ],
 "metadata": {
  "kernelspec": {
   "display_name": "Python 3 (ipykernel)",
   "language": "python",
   "name": "python3"
  },
  "language_info": {
   "codemirror_mode": {
    "name": "ipython",
    "version": 3
   },
   "file_extension": ".py",
   "mimetype": "text/x-python",
   "name": "python",
   "nbconvert_exporter": "python",
   "pygments_lexer": "ipython3",
   "version": "3.10.13"
  }
 },
 "nbformat": 4,
 "nbformat_minor": 5
}
