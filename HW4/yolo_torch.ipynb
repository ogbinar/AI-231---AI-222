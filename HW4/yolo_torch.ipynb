{
 "cells": [
  {
   "cell_type": "raw",
   "id": "c944b9ca",
   "metadata": {},
   "source": [
    "!pip install  opencv-python"
   ]
  },
  {
   "cell_type": "raw",
   "id": "4d149248",
   "metadata": {},
   "source": [
    "!pip install torch"
   ]
  },
  {
   "cell_type": "raw",
   "id": "318b9e3c",
   "metadata": {},
   "source": [
    "!pip install ultralyticsplus"
   ]
  },
  {
   "cell_type": "code",
   "execution_count": 1,
   "id": "3352d6d1",
   "metadata": {},
   "outputs": [],
   "source": [
    "import torch\n",
    "from ultralytics import YOLO\n",
    "\n",
    "# Load YOLOv8s model\n",
    "model = YOLO('yolov8s.pt')  # Load an official model\n",
    "# model = YOLO('./weights/best.pt')  # Load a custom model\n",
    "\n",
    "# Image URL\n",
    "image_url = 'https://ultralytics.com/images/zidane.jpg'\n",
    "\n",
    "# Inference\n",
    "#results = model(image_url)  # Perform object detection\n",
    "\n",
    "# Print results summary\n",
    "#print(results.pandas().xyxy[0])\n",
    "\n",
    "# Render result with bounding boxes and class labels\n",
    "#results\n",
    "#render_result(results=results[0])"
   ]
  },
  {
   "cell_type": "code",
   "execution_count": 2,
   "id": "5aac375e",
   "metadata": {},
   "outputs": [
    {
     "name": "stdout",
     "output_type": "stream",
     "text": [
      "tensor([[[72., 74., 73.,  ..., 56., 55., 51.],\n",
      "         [71., 71., 70.,  ..., 55., 52., 47.],\n",
      "         [75., 73., 70.,  ..., 56., 52., 48.],\n",
      "         ...,\n",
      "         [40., 41., 40.,  ..., 35., 35., 36.],\n",
      "         [39., 39., 39.,  ..., 35., 35., 36.],\n",
      "         [38., 38., 38.,  ..., 35., 35., 36.]],\n",
      "\n",
      "        [[48., 50., 51.,  ..., 21., 19., 15.],\n",
      "         [47., 47., 48.,  ..., 20., 16., 11.],\n",
      "         [51., 49., 48.,  ..., 20., 16., 12.],\n",
      "         ...,\n",
      "         [43., 44., 43.,  ..., 49., 49., 50.],\n",
      "         [42., 42., 42.,  ..., 49., 49., 50.],\n",
      "         [41., 41., 41.,  ..., 49., 49., 50.]],\n",
      "\n",
      "        [[38., 40., 40.,  ..., 25., 21., 17.],\n",
      "         [37., 37., 37.,  ..., 24., 18., 13.],\n",
      "         [41., 39., 37.,  ..., 24., 20., 16.],\n",
      "         ...,\n",
      "         [48., 49., 48.,  ..., 49., 49., 50.],\n",
      "         [49., 49., 49.,  ..., 50., 50., 51.],\n",
      "         [48., 48., 48.,  ..., 50., 50., 51.]]])\n"
     ]
    }
   ],
   "source": [
    "import urllib\n",
    "from PIL import Image\n",
    "import io\n",
    "import numpy as np\n",
    "import cv2\n",
    "\n",
    "def url_to_tensor(url):\n",
    "    response = urllib.request.urlopen(url)\n",
    "    image_data = response.read()\n",
    "    image = Image.open(io.BytesIO(image_data))\n",
    "\n",
    "    # Convert image to tensor\n",
    "    image = torch.from_numpy(np.array(image))\n",
    "    image = image.float()\n",
    "    image = image.permute(2, 0, 1)\n",
    "    return image\n",
    "\n",
    "image_tensor = url_to_tensor(image_url)\n",
    "print(image_tensor)"
   ]
  },
  {
   "cell_type": "code",
   "execution_count": 3,
   "id": "79c8c2be",
   "metadata": {},
   "outputs": [
    {
     "name": "stderr",
     "output_type": "stream",
     "text": [
      "Ultralytics YOLOv8.0.43  Python-3.11.5 torch-2.1.1+cpu CPU\n",
      "YOLOv8s summary (fused): 168 layers, 11156544 parameters, 0 gradients, 28.6 GFLOPs\n",
      "\n",
      "0: 384x640 2 persons, 1 tie, 295.3ms\n",
      "Speed: 1.0ms preprocess, 295.3ms inference, 2.0ms postprocess per image at shape (1, 3, 640, 640)\n"
     ]
    }
   ],
   "source": [
    "image = image_tensor.permute(1, 2, 0).cpu().numpy()\n",
    "image = image * 255.0\n",
    "image = image.astype(np.uint8)\n",
    "image = cv2.cvtColor(image, cv2.COLOR_BGR2RGB)\n",
    "\n",
    "# Inference\n",
    "results = model(image)"
   ]
  },
  {
   "cell_type": "code",
   "execution_count": null,
   "id": "3402b5f2",
   "metadata": {
    "scrolled": true
   },
   "outputs": [],
   "source": [
    "from ultralyticsplus import render_result\n",
    "render_result(model=model, image=image_url, result=results[0])\n"
   ]
  },
  {
   "cell_type": "code",
   "execution_count": null,
   "id": "b4793658",
   "metadata": {},
   "outputs": [],
   "source": []
  }
 ],
 "metadata": {
  "kernelspec": {
   "display_name": "Python 3 (ipykernel)",
   "language": "python",
   "name": "python3"
  },
  "language_info": {
   "codemirror_mode": {
    "name": "ipython",
    "version": 3
   },
   "file_extension": ".py",
   "mimetype": "text/x-python",
   "name": "python",
   "nbconvert_exporter": "python",
   "pygments_lexer": "ipython3",
   "version": "3.11.5"
  }
 },
 "nbformat": 4,
 "nbformat_minor": 5
}
